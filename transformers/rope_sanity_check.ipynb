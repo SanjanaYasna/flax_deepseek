{
 "cells": [
  {
   "cell_type": "code",
   "execution_count": 34,
   "metadata": {},
   "outputs": [],
   "source": [
    "from jax import (\n",
    "    Array, \n",
    "    numpy as jnp, \n",
    "    lax\n",
    ")\n",
    "import flax\n",
    "import flax.linen as nn"
   ]
  },
  {
   "cell_type": "code",
   "execution_count": 29,
   "metadata": {},
   "outputs": [],
   "source": [
    "class PositionalEmbedding:\n",
    "    def __init__(self, max_len: int, d_model: int):\n",
    "        p, i = jnp.meshgrid(jnp.arange(float(max_len)),jnp.arange(d_model/2) * 2)\n",
    "        #each shape of (d_model / 2, max_len)\n",
    "        theta = (p/1e4**(i/d_model)).T  #(d_model/2, max_len)\n",
    "        self.pos_emb = jnp.stack([\n",
    "            jnp.sin(theta), jnp.cos(theta)], axis = -1\n",
    "        ) #shape (max_len, d_model/2, 2)\n",
    "        self.pos_emb = self.pos_emb.reshape((max_len, d_model))[None] #(1, max_len, d_model)\n",
    "    def sin_cos_embs(self):\n",
    "        return self.pos_emb #(1, max_len, d_model)\n",
    "    \n",
    "    def compute_freqs(self):\n",
    "        sin_freqs = jnp.repeat(self.pos_emb\n",
    "            [..., None, ::2], repeats = 2, axis=-1\n",
    "        ) # (1, max_len, 1, d_model)\n",
    "        cos_freqs = jnp.repeat(self.pos_emb\n",
    "            [..., None, 1::2], repeats = 2, axis=-1  \n",
    "                            )\n",
    "        return sin_freqs, cos_freqs"
   ]
  },
  {
   "cell_type": "code",
   "execution_count": 74,
   "metadata": {},
   "outputs": [
    {
     "name": "stdout",
     "output_type": "stream",
     "text": [
      "(1, 32, 8)\n",
      "(1, 32, 1, 8)\n"
     ]
    }
   ],
   "source": [
    "#run pos embeddings\n",
    "pe = PositionalEmbedding(32, 8)\n",
    "sin, cos = pe.compute_freqs()\n",
    "print(sin.shape)"
   ]
  },
  {
   "cell_type": "code",
   "execution_count": 44,
   "metadata": {},
   "outputs": [
    {
     "data": {
      "text/plain": [
       "Text(0.5, 1.0, 'reference')"
      ]
     },
     "execution_count": 44,
     "metadata": {},
     "output_type": "execute_result"
    },
    {
     "data": {
      "image/png": "[encoded data removed]",
      "text/plain": [
       "<Figure size 640x480 with 1 Axes>"
      ]
     },
     "metadata": {},
     "output_type": "display_data"
    }
   ],
   "source": [
    "#plot sin frequencies heatmap\n",
    "import matplotlib.pyplot as plt\n",
    "plt.imshow(sin[0, :, 0, :])\n",
    "plt.title(\"reference\")"
   ]
  },
  {
   "cell_type": "code",
   "execution_count": 86,
   "metadata": {},
   "outputs": [],
   "source": [
    "@nn.nowrap\n",
    "def precompute_sin_cos_exp_caches(max_len, d_model):\n",
    "    #position inddices, [0.... seq_len -1]\n",
    "    position = jnp.arange(0, max_len, dtype=jnp.float32)[:, None]\n",
    "    #10000 ^ (-2(i-1) / d_model) for i from 1 to d_model/2\n",
    "    denominator = 1. / jnp.power(\n",
    "            10000.0 ,\n",
    "            jnp.arange(0, d_model, 2) / d_model\n",
    "        )\n",
    "    #product of position and denominator\n",
    "    idx_pos_denom = position * denominator\n",
    "    #directly concatenate so that there is row of pos_denom_product for sin and cos individually\n",
    "    idx_concat = jnp.concat([idx_pos_denom, idx_pos_denom], axis=-1)\n",
    "\n",
    "    assert idx_concat.shape == (max_len, d_model)\n",
    "    #expand middle two dimensions\n",
    "    cos_cache = jnp.cos(idx_concat)\n",
    "    sin_cache = jnp.sin(idx_concat)\n",
    "    return sin_cache, cos_cache"
   ]
  },
  {
   "cell_type": "code",
   "execution_count": 123,
   "metadata": {},
   "outputs": [
    {
     "data": {
      "text/plain": [
       "Text(0.5, 1.0, 'mine')"
      ]
     },
     "execution_count": 123,
     "metadata": {},
     "output_type": "execute_result"
    },
    {
     "data": {
      "image/png": "[encoded data removed]",
      "text/plain": [
       "<Figure size 640x480 with 1 Axes>"
      ]
     },
     "metadata": {},
     "output_type": "display_data"
    }
   ],
   "source": [
    "sin, cos = precompute_sin_cos_exp_caches(32, 8)\n",
    "plt.imshow(sin)\n",
    "plt.title(\"mine\")"
   ]
  },
  {
   "cell_type": "code",
   "execution_count": 121,
   "metadata": {},
   "outputs": [],
   "source": [
    "#make arbitrary query and key [batch_size, num_Heads, max_len, head_dim]\n",
    "# 2 heads...\n",
    "#dim = heads * head_dim\n",
    "query = jnp.ones((3, 32, 4, 8))\n",
    "key = jnp.ones((3, 32, 4, 8))"
   ]
  },
  {
   "cell_type": "code",
   "execution_count": 89,
   "metadata": {},
   "outputs": [],
   "source": [
    "def rope_emb( key, query, sin_cache, cos_cache, expand_dim = 1):\n",
    "    #shape: [num_heads, 1, head_dim], so first and third dimension should match key and query dimensions to broadcast\n",
    "    cos_cache = jnp.expand_dims(cos_cache, axis = expand_dim)\n",
    "    sin_cache = jnp.expand_dims(sin_cache, axis = expand_dim)\n",
    "    assert (sin_cache.shape == cos_cache.shape)\n",
    "    #split query and k into two partsn and rotate, with rotational negation of second half\n",
    "    query1, query2 = jnp.split(query, 2, axis = -1)\n",
    "    #[batch_size, num_heads, seq_len, head_dim]\n",
    "    query_rotated = jnp.concatenate([-query2, query1], axis = -1)\n",
    "    key1, key2 = jnp.split(key, 2, axis = -1)\n",
    "    key_rotated = jnp.concatenate([-key2, key1], axis = -1)\n",
    "    #apply embs to query and key splits\n",
    "    query_emb = (query * cos_cache) + (query_rotated * sin_cache)\n",
    "    key_emb = (key * cos_cache) + (key_rotated* sin_cache)\n",
    "    return query_emb, key_emb"
   ]
  },
  {
   "cell_type": "code",
   "execution_count": 96,
   "metadata": {},
   "outputs": [],
   "source": [
    "sin_ref, cos_ref = pe.compute_freqs()\n",
    "#compress dims 0 and 2\n",
    "sin_ref = sin_ref.squeeze()\n",
    "cos_ref = cos_ref.squeeze()"
   ]
  },
  {
   "cell_type": "code",
   "execution_count": 98,
   "metadata": {},
   "outputs": [],
   "source": [
    "#put that into rope emb\n",
    "q_diff_freq, k_diff_freq = rope_emb(key, query, sin_ref, cos_ref)"
   ]
  },
  {
   "cell_type": "code",
   "execution_count": 103,
   "metadata": {},
   "outputs": [
    {
     "data": {
      "text/plain": [
       "Text(0.5, 1.0, 'ref freqs with my rope')"
      ]
     },
     "execution_count": 103,
     "metadata": {},
     "output_type": "execute_result"
    },
    {
     "data": {
      "image/png": "[encoded data removed]",
      "text/plain": [
       "<Figure size 640x480 with 1 Axes>"
      ]
     },
     "metadata": {},
     "output_type": "display_data"
    }
   ],
   "source": [
    "plt.imshow(q_diff_freq[0, :, 0, :])\n",
    "plt.title(\"ref freqs with my rope\")"
   ]
  },
  {
   "cell_type": "code",
   "execution_count": 124,
   "metadata": {},
   "outputs": [],
   "source": [
    "query, key = rope_emb(key, query, sin, cos)"
   ]
  },
  {
   "cell_type": "code",
   "execution_count": 125,
   "metadata": {},
   "outputs": [
    {
     "data": {
      "text/plain": [
       "(3, 32, 4, 8)"
      ]
     },
     "execution_count": 125,
     "metadata": {},
     "output_type": "execute_result"
    }
   ],
   "source": [
    "query.shape"
   ]
  },
  {
   "cell_type": "code",
   "execution_count": 102,
   "metadata": {},
   "outputs": [
    {
     "data": {
      "text/plain": [
       "Text(0.5, 1.0, 'mine')"
      ]
     },
     "execution_count": 102,
     "metadata": {},
     "output_type": "execute_result"
    },
    {
     "data": {
      "image/png": "[encoded data removed]",
      "text/plain": [
       "<Figure size 640x480 with 1 Axes>"
      ]
     },
     "metadata": {},
     "output_type": "display_data"
    }
   ],
   "source": [
    "#visualize for one head\n",
    "plt.imshow(query[0, :, 0, :])\n",
    "plt.title(\"mine\")"
   ]
  },
  {
   "cell_type": "code",
   "execution_count": 80,
   "metadata": {},
   "outputs": [],
   "source": [
    "def apply_rotary_embeddings(q:Array, k:Array, sin_freqs:Array, cos_freqs:Array):\n",
    "    T = q.shape[1]\n",
    "    minus_swap_alternate = lambda x: jnp.stack([-x[..., 1::2], x[..., ::2]], axis=-1).reshape(x.shape)\n",
    "    print(minus_swap_alternate(q).shape)\n",
    "    print(cos_freqs[:, :T, :, :].shape)\n",
    "    q = q*cos_freqs[:, :T, :, :] + minus_swap_alternate(q)*sin_freqs[:, :T, :, :] # (B, T, h, dq)*(1, T, 1, dq) + (B, T, h, dq)*(1, T, 1, dq)\n",
    "    k = k*cos_freqs[:, :T, :, :] + minus_swap_alternate(k)*sin_freqs[:, :T, :, :] # (B, T, h, dq)*(1, T, 1, dq) + (B, T, h, dq)*(1, T, 1, dq)\n",
    "    return q, k # (B, T, h, dq), (B, T, h, dq)"
   ]
  },
  {
   "cell_type": "code",
   "execution_count": 130,
   "metadata": {},
   "outputs": [
    {
     "name": "stdout",
     "output_type": "stream",
     "text": [
      "(1, 32, 8)\n"
     ]
    }
   ],
   "source": [
    "q, k = jnp.ones((3, 32, 4, 8)), jnp.ones((3, 32, 4, 8))\n",
    "pe = PositionalEmbedding(32, 8)\n",
    "sin, cos = pe.compute_freqs()"
   ]
  },
  {
   "cell_type": "code",
   "execution_count": 131,
   "metadata": {},
   "outputs": [
    {
     "name": "stdout",
     "output_type": "stream",
     "text": [
      "(3, 32, 4, 8)\n",
      "(1, 32, 1, 8)\n"
     ]
    }
   ],
   "source": [
    "q, k = apply_rotary_embeddings(q, k, sin, cos)"
   ]
  },
  {
   "cell_type": "code",
   "execution_count": 100,
   "metadata": {},
   "outputs": [
    {
     "data": {
      "text/plain": [
       "Text(0.5, 1.0, 'reference')"
      ]
     },
     "execution_count": 100,
     "metadata": {},
     "output_type": "execute_result"
    },
    {
     "data": {
      "image/png": "[encoded data removed]",
      "text/plain": [
       "<Figure size 640x480 with 1 Axes>"
      ]
     },
     "metadata": {},
     "output_type": "display_data"
    }
   ],
   "source": [
    "#visualize rotary embeddings\n",
    "plt.imshow(q[0, :, 0, :])\n",
    "plt.title(\"reference\")"
   ]
  },
  {
   "cell_type": "markdown",
   "metadata": {},
   "source": [
    "Trying out new RoPE Embs instead:"
   ]
  },
  {
   "cell_type": "code",
   "execution_count": 1,
   "metadata": {},
   "outputs": [
    {
     "name": "stderr",
     "output_type": "stream",
     "text": [
      "WARNING:absl:Tensorflow library not found, tensorflow.io.gfile operations will use native shim calls. GCS paths (i.e. 'gs://...') cannot be accessed.\n",
      "/kuhpc/work/slusky/syasna_sta/.conda/envs/flax/lib/python3.10/site-packages/tqdm/auto.py:21: TqdmWarning: IProgress not found. Please update jupyter and ipywidgets. See https://ipywidgets.readthedocs.io/en/stable/user_install.html\n",
      "  from .autonotebook import tqdm as notebook_tqdm\n"
     ]
    }
   ],
   "source": [
    "from mla_enc_only import *"
   ]
  },
  {
   "cell_type": "code",
   "execution_count": 138,
   "metadata": {},
   "outputs": [],
   "source": [
    "#multi head latent attention\n",
    "class MLA(nn.Module):\n",
    "    num_heads: int\n",
    "    embed_dim: int\n",
    "    \n",
    "    def setup(self):\n",
    "        self.head_dim = self.embed_dim // self.num_heads #since should naturally project below onto oringal embed_dim\n",
    "        self.query_proj = nn.Dense(\n",
    "            self.num_heads * self.head_dim,\n",
    "            kernel_init = nn.initializers.xavier_uniform()\n",
    "        )\n",
    "        self.key_proj = nn.Dense(\n",
    "            #normally would project ot a reduced number of key-value heads..\n",
    "            self.num_heads * self.head_dim,\n",
    "            kernel_init = nn.initializers.xavier_uniform()\n",
    "        )\n",
    "        self.value_proj = nn.Dense(\n",
    "            self.num_heads * self.head_dim,\n",
    "            kernel_init=nn.initializers.xavier_uniform()\n",
    "        )\n",
    "    \n",
    "        #final output projection of attention\n",
    "        self.o_proj = nn.Dense(\n",
    "            self.embed_dim,\n",
    "            kernel_init = nn.initializers.xavier_uniform()\n",
    "        )\n",
    "    def __call__(self, x,\n",
    "                sin, #position embeddings...\n",
    "                cos, \n",
    "                mask=None):\n",
    "        #get these for scaling reshapes below\n",
    "        batch_size, seq_length, embed_dim = x.shape\n",
    "\n",
    "        if mask is not None: \n",
    "            #mask min 3 dims\n",
    "            mask = expand_mask(mask) \n",
    "            \n",
    "        #up projection\n",
    "        #shape [batch_size, seq_length, num_heads*head_dim]\n",
    "        query_state = self.query_proj(x)\n",
    "        key_state = self.key_proj(x)\n",
    "        value_state = self.value_proj(x)\n",
    "        \n",
    "        #[batch_size, seq_length, num_heads*head_dim] ->\n",
    "        #[batch_size, seq_length, num_heads, head_dim] ->\n",
    "        #[batch_size, num_heads, seq_length, head_dim]\n",
    "        query_state = query_state.reshape(\n",
    "            batch_size, seq_length, self.num_heads, -1\n",
    "        ).transpose(0, 2, 1, 3)\n",
    "        key_state = key_state.reshape(\n",
    "            batch_size, seq_length, self.num_heads, -1\n",
    "        ).transpose(0, 2, 1, 3)\n",
    "        value_state = value_state.reshape(\n",
    "            batch_size, seq_length, self.num_heads, -1\n",
    "        ).transpose(0, 2, 1, 3)\n",
    "        print(\"sin shape\",sin.shape)\n",
    "        #applied rope embeddings (shape maintained)\n",
    "        query_state, key_state = apply_rotary_embeddings(query_state, \n",
    "                                        key_state, \n",
    "                                        sin, \n",
    "                                        cos)\n",
    "        \n",
    "        #scaled dot product attention with mask\n",
    "        values, attention = scaled_dot_product(key_state, query_state, value_state, mask)\n",
    "        \n",
    "        #softmax to get attention probabilities [batch_size, num_heads, seq_length, head_dim / 2]\n",
    "        attention_weights = nn.softmax(attention, axis = -1)\n",
    "        #dot product of weights with values\n",
    "        attn_output = jnp.matmul(attention_weights, values)\n",
    "        #reshape output, compress last two dimensions for each head\n",
    "        #-> [batch_size, num_heads, embed_dim]\n",
    "        attn_output = attn_output.transpose(0, 2, 1, 3)\n",
    "        attn_output = attn_output.reshape(batch_size, seq_length, embed_dim)\n",
    "        #attn_output proj back to original shape of x: [batch_size, seq_length, embed_dim]\n",
    "        #attention_weights maintains k q v state shapes: [batch_size, num_heads, seq_length, head_dim ]\n",
    "        return self.o_proj(attn_output), attention_weights"
   ]
  },
  {
   "cell_type": "code",
   "execution_count": 2,
   "metadata": {},
   "outputs": [],
   "source": [
    "model_dim = 32\n",
    "num_heads = 4\n",
    "pe = PositionalEmbedding(num_heads, model_dim // num_heads)\n",
    "sin, cos = pe.compute_freqs()"
   ]
  },
  {
   "cell_type": "code",
   "execution_count": 6,
   "metadata": {},
   "outputs": [
    {
     "name": "stdout",
     "output_type": "stream",
     "text": [
      "(1, 4, 1, 8)\n"
     ]
    },
    {
     "data": {
      "text/plain": [
       "Array([[[[1.       , 1.       , 1.       , 1.       , 1.       ,\n",
       "          1.       , 1.       , 1.       ]],\n",
       "\n",
       "        [[0.5403023, 0.5403023, 0.9950042, 0.9950042, 0.99995  ,\n",
       "          0.99995  , 0.9999995, 0.9999995]]]], dtype=float32)"
      ]
     },
     "execution_count": 6,
     "metadata": {},
     "output_type": "execute_result"
    }
   ],
   "source": [
    "print(cos.shape)\n",
    "T = 2\n",
    "cos[:, :T, :, :]"
   ]
  },
  {
   "cell_type": "code",
   "execution_count": 140,
   "metadata": {},
   "outputs": [],
   "source": [
    "#encoder-only full model with multi-head latent attention\n",
    "class MLATransformer(nn.Module): \n",
    "    model_dim : int\n",
    "    num_heads : int\n",
    "    num_classes : int\n",
    "    num_layers : int\n",
    "    dropout_rate : float = 0.0\n",
    "    init_dropout_rate : float = 0.0\n",
    "    \n",
    "    def setup(self):\n",
    "        #dropout and output model_dim size\n",
    "        self.input_dropout = nn.Dropout(rate = self.init_dropout_rate)\n",
    "        self.input_layer = nn.Dense(self.model_dim)\n",
    "\n",
    "        self.enc = MLATransformerEncoder(\n",
    "            num_layers = self.num_layers,\n",
    "            input_dim = self.model_dim,\n",
    "            num_heads = self.num_heads,\n",
    "            dim_feedforward = 2 * self.model_dim,\n",
    "            dropout_rate = self.dropout_rate\n",
    "        )\n",
    "        \n",
    "        #mlp output (no decoder for now)\n",
    "        self.out = [\n",
    "            nn.Dense(self.model_dim),\n",
    "            nn.LayerNorm(),\n",
    "            nn.relu,\n",
    "            nn.Dropout(rate = self.dropout_rate),\n",
    "            nn.Dense(self.num_classes)\n",
    "        ]\n",
    "    \n",
    "    def __call__(self, \n",
    "            x,\n",
    "            sin, \n",
    "            cos,\n",
    "            mask=None,\n",
    "            train = True\n",
    "            ):\n",
    "        x = self.input_dropout(x, deterministic = not train)\n",
    "        x = self.input_layer(x)\n",
    "        x = self.enc(x, sin, cos, mask, deterministic = not train)\n",
    "        for l in self.out:\n",
    "            x = l(x, deterministic = not train) if isinstance(l, nn.Dropout) else l(x)\n",
    "        return x"
   ]
  },
  {
   "cell_type": "code",
   "execution_count": 3,
   "metadata": {},
   "outputs": [],
   "source": [
    "main_rng, x_rng = jax.random.split(jax.random.PRNGKey(0))\n",
    "x = random.normal(x_rng, (3, 32, 32))\n",
    "mask = jax.random.bernoulli(main_rng, p=0.5, shape=(3, 16, 64))\n",
    "\n",
    "transpre = MLATransformer(num_layers=5,\n",
    "                                model_dim=model_dim,\n",
    "                                num_classes=10,\n",
    "                                num_heads=num_heads,\n",
    "                                dropout_rate=0.15,\n",
    "                                init_dropout_rate=0.05)"
   ]
  },
  {
   "cell_type": "code",
   "execution_count": null,
   "metadata": {},
   "outputs": [],
   "source": [
    "main_rng, init_rng, dropout_init_rng = random.split(main_rng, 3)\n",
    "params = transpre.init({'params': init_rng, \n",
    "                    'dropout': dropout_init_rng}, \n",
    "                    x= x, \n",
    "                    cos = cos,\n",
    "                    sin = sin, train= True)['params']\n",
    "\n",
    "main_rng, dropout_apply_rng = random.split(main_rng)\n",
    "# Instead of passing params and rngs every time to a function call, we can bind them to the module\n",
    "binded_mod = transpre.apply({'params': params}, x= x, \n",
    "                            sin=sin, \n",
    "                            cos = cos,\n",
    "                            rngs={'dropout': dropout_apply_rng})\n",
    "print(binded_mod.shape)"
   ]
  },
  {
   "cell_type": "markdown",
   "metadata": {},
   "source": [
    "Reverse dataest test with RoPE reference"
   ]
  },
  {
   "cell_type": "code",
   "execution_count": 1,
   "metadata": {},
   "outputs": [],
   "source": [
    "DATASET_PATH = \"/kuhpc/work/slusky/syasna_sta/env_setup_test/data\""
   ]
  },
  {
   "cell_type": "code",
   "execution_count": 2,
   "metadata": {},
   "outputs": [
    {
     "name": "stderr",
     "output_type": "stream",
     "text": [
      "WARNING:absl:Tensorflow library not found, tensorflow.io.gfile operations will use native shim calls. GCS paths (i.e. 'gs://...') cannot be accessed.\n",
      "/kuhpc/work/slusky/syasna_sta/.conda/envs/flax/lib/python3.10/site-packages/tqdm/auto.py:21: TqdmWarning: IProgress not found. Please update jupyter and ipywidgets. See https://ipywidgets.readthedocs.io/en/stable/user_install.html\n",
      "  from .autonotebook import tqdm as notebook_tqdm\n"
     ]
    }
   ],
   "source": [
    "from rev_task import *\n",
    "from mla_enc_only import *\n",
    "from rev_task import ReverseTrainer"
   ]
  },
  {
   "cell_type": "code",
   "execution_count": 3,
   "metadata": {},
   "outputs": [],
   "source": [
    "dataset = partial(ReverseDataset, 10, 16)\n",
    "rev_train_loader = data.DataLoader(dataset(50000, np_rng=np.random.default_rng(42)),\n",
    "                                   batch_size=128,\n",
    "                                   shuffle=True,\n",
    "                                   drop_last=True,\n",
    "                                   collate_fn=numpy_collate)\n",
    "rev_val_loader   = data.DataLoader(dataset(1000, np_rng=np.random.default_rng(43)),\n",
    "                                   batch_size=128,\n",
    "                                   collate_fn=numpy_collate)\n",
    "rev_test_loader  = data.DataLoader(dataset(1000, np_rng=np.random.default_rng(44)),\n",
    "                                   batch_size=128,\n",
    "                                   collate_fn=numpy_collate)"
   ]
  },
  {
   "cell_type": "code",
   "execution_count": 4,
   "metadata": {},
   "outputs": [],
   "source": [
    "def train_reverse(max_epochs = 10, **model_args):\n",
    "    num_train_iters = len(rev_train_loader) * max_epochs\n",
    "    trainer = ReverseTrainer('MLA-Reverse', \n",
    "                            exmp_batch = next(iter(rev_train_loader)),\n",
    "                            max_iters = num_train_iters,\n",
    "                            **model_args\n",
    "    )\n",
    "    if not trainer.checkpoint_exists():\n",
    "        trainer.train_model(rev_train_loader, rev_val_loader, num_epochs=max_epochs)\n",
    "        trainer.save_model()\n",
    "        \n",
    "    else:\n",
    "        trainer.load_model(pretrained=True)\n",
    "\n",
    "    val_acc = trainer.eval_model(rev_val_loader)\n",
    "    test_acc = trainer.eval_model(rev_test_loader)\n",
    "    #bind, inference so no dropout rng \n",
    "    trainer.model_bd = trainer.model.bind({'params': trainer.state.params})\n",
    "    return trainer, {'val_acc': val_acc, 'test_acc': test_acc}"
   ]
  },
  {
   "cell_type": "code",
   "execution_count": 7,
   "metadata": {},
   "outputs": [
    {
     "name": "stderr",
     "output_type": "stream",
     "text": [
      "  0%|          | 0/10 [00:00<?, ?it/s]"
     ]
    },
    {
     "name": "stderr",
     "output_type": "stream",
     "text": [
      "100%|██████████| 10/10 [02:03<00:00, 12.36s/it]\n"
     ]
    }
   ],
   "source": [
    "model_dim = 32\n",
    "num_heads = 2\n",
    "pe = PositionalEmbedding(num_heads, model_dim // num_heads)\n",
    "sin, cos = pe.compute_freqs()\n",
    "reverse_trainer, reverse_result = train_reverse(model_dim=32,\n",
    "                                                num_heads=2,\n",
    "                                                num_classes=rev_train_loader.dataset.num_categories,\n",
    "                                                num_layers=3,\n",
    "                                                sin = sin,\n",
    "                                                cos = cos,\n",
    "                                                init_dropout_rate=0.0,\n",
    "                                                dropout_rate = 0.1,\n",
    "                                                lr=5e-4,\n",
    "                                                warmup=50)"
   ]
  },
  {
   "cell_type": "code",
   "execution_count": 8,
   "metadata": {},
   "outputs": [
    {
     "name": "stdout",
     "output_type": "stream",
     "text": [
      "Val accuracy:  23.61%\n",
      "Test accuracy: 24.19%\n"
     ]
    }
   ],
   "source": [
    "print(f\"Val accuracy:  {(100.0 * reverse_result['val_acc']):4.2f}%\")\n",
    "print(f\"Test accuracy: {(100.0 * reverse_result['test_acc']):4.2f}%\")"
   ]
  }
 ],
 "metadata": {
  "kernelspec": {
   "display_name": "flax",
   "language": "python",
   "name": "python3"
  },
  "language_info": {
   "codemirror_mode": {
    "name": "ipython",
    "version": 3
   },
   "file_extension": ".py",
   "mimetype": "text/x-python",
   "name": "python",
   "nbconvert_exporter": "python",
   "pygments_lexer": "ipython3",
   "version": "3.10.16"
  },
  "orig_nbformat": 4
 },
 "nbformat": 4,
 "nbformat_minor": 2
}
